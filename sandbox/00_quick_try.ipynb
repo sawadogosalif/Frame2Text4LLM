{
 "cells": [
  {
   "cell_type": "code",
   "execution_count": null,
   "metadata": {},
   "outputs": [
    {
     "name": "stderr",
     "output_type": "stream",
     "text": [
      "Using CPU. Note: This module is much faster with a GPU.\n"
     ]
    }
   ],
   "source": [
    "import cv2\n",
    "import numpy as np\n",
    "import json\n",
    "import difflib #to find similarity between two strings\n",
    "from IPython.display import clear_output\n",
    "\n",
    "from easyocr import Reader"
   ]
  },
  {
   "cell_type": "code",
   "execution_count": 3,
   "metadata": {},
   "outputs": [],
   "source": [
    "def _format_time(seconds):\n",
    "    ms = int((seconds - int(seconds)) * 1000)\n",
    "    h, rem = divmod(int(seconds), 3600)\n",
    "    m, s = divmod(rem, 60)\n",
    "    return f\"{h:02d}:{m:02d}:{s:02d}.{ms:03d}\"\n",
    "\n",
    "def _process_frame(img, crop_area=None):\n",
    "    if crop_area:\n",
    "        x, y, w, h = crop_area\n",
    "        img = img[y:y+h, x:x+w]\n",
    "    result = reader.readtext(img, detail=0)\n",
    "    return ' '.join(result).strip()"
   ]
  },
  {
   "cell_type": "code",
   "execution_count": null,
   "metadata": {},
   "outputs": [],
   "source": [
    "VIDEO_PATH = 'sample_short.mp4'\n",
    "SAMPLE_RATE = 1      #frames per second\n",
    "CROP_AREA = None     # (x, y, w, h) or None for bottom 25%\n",
    "SIM_THRESHOLD = 0.8  #text similarity for merging\n",
    "\n",
    "reader = Reader(['fr'], gpu=False) #gpu not working :( (should try with another conda env with cuda and cudnn install)\n",
    "\n",
    "cap = cv2.VideoCapture(VIDEO_PATH)\n",
    "fps = cap.get(cv2.CAP_PROP_FPS)\n",
    "interval = max(1, int(fps // SAMPLE_RATE))"
   ]
  },
  {
   "cell_type": "code",
   "execution_count": 4,
   "metadata": {},
   "outputs": [
    {
     "name": "stderr",
     "output_type": "stream",
     "text": [
      "c:\\Users\\Alban NYANTUDRE\\Desktop\\GitHub\\Frame2Text4LLM\\.venv\\Lib\\site-packages\\torch\\utils\\data\\dataloader.py:665: UserWarning: 'pin_memory' argument is set as true but no accelerator is found, then device pinned memory won't be used.\n",
      "  warnings.warn(warn_msg)\n"
     ]
    }
   ],
   "source": [
    "segments = []\n",
    "current_text, start_frame, end_frame = None, 0, 0\n",
    "\n",
    "frame_idx = 0\n",
    "while cap.isOpened():\n",
    "    ret, frame = cap.read()\n",
    "    if not ret:\n",
    "        break\n",
    "    \n",
    "    frame = cv2.cvtColor(frame, cv2.COLOR_BGR2RGB)\n",
    "        \n",
    "    if frame_idx % interval == 0:\n",
    "        text = _process_frame(frame, CROP_AREA)\n",
    "        \n",
    "        if text:\n",
    "            if current_text:\n",
    "                similarity = difflib.SequenceMatcher(None, current_text, text).ratio()\n",
    "                if similarity >= SIM_THRESHOLD:\n",
    "                    end_frame = frame_idx\n",
    "                else:\n",
    "                    segments.append({\n",
    "                        'start': _format_time(start_frame/fps),\n",
    "                        'end': _format_time(end_frame/fps),\n",
    "                        'text': current_text\n",
    "                    })\n",
    "                    current_text = text\n",
    "                    start_frame = frame_idx\n",
    "            else:\n",
    "                current_text = text\n",
    "                start_frame = frame_idx\n",
    "            end_frame = frame_idx\n",
    "            \n",
    "    frame_idx += 1\n",
    "\n",
    "cap.release()\n",
    "if current_text:\n",
    "    segments.append({\n",
    "        'start': _format_time(start_frame/fps),\n",
    "        'end': _format_time(end_frame/fps),\n",
    "        'text': current_text\n",
    "    })"
   ]
  },
  {
   "cell_type": "code",
   "execution_count": 7,
   "metadata": {},
   "outputs": [],
   "source": [
    "OUTPUT_FORMAT = 'json' \n",
    "OUTPUT_FILE = 'resultat_quick_try'\n",
    "\n",
    "if OUTPUT_FORMAT == 'json':\n",
    "    with open(f\"{OUTPUT_FILE}.json\", 'w', encoding='utf-8') as f:\n",
    "        json.dump(segments, f, indent=2, ensure_ascii=False)\n",
    "    \n",
    "# elif OUTPUT_FORMAT == 'srt':\n",
    "#     with open(f\"{OUTPUT_FILE}.srt\", 'w', encoding='utf-8') as f:\n",
    "#         for i, seg in enumerate(segments, 1):\n",
    "#             f.write(f\"{i}\\n\")\n",
    "#             f.write(f\"{seg['start'].replace('.', ',')} --> {seg['end'].replace('.', ',')}\\n\")\n",
    "#             f.write(f\"{seg['text']}\\n\\n\")"
   ]
  },
  {
   "cell_type": "code",
   "execution_count": null,
   "metadata": {},
   "outputs": [],
   "source": []
  }
 ],
 "metadata": {
  "kernelspec": {
   "display_name": ".venv",
   "language": "python",
   "name": "python3"
  },
  "language_info": {
   "codemirror_mode": {
    "name": "ipython",
    "version": 3
   },
   "file_extension": ".py",
   "mimetype": "text/x-python",
   "name": "python",
   "nbconvert_exporter": "python",
   "pygments_lexer": "ipython3",
   "version": "3.13.3"
  }
 },
 "nbformat": 4,
 "nbformat_minor": 2
}
