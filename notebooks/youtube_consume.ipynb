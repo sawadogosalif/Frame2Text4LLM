{
 "cells": [
  {
   "cell_type": "code",
   "execution_count": 1,
   "id": "c706185c",
   "metadata": {},
   "outputs": [
    {
     "name": "stdout",
     "output_type": "stream",
     "text": [
      "Requirement already satisfied: pytubefix in c:\\users\\alban nyantudre\\.conda\\envs\\pytube\\lib\\site-packages (9.3.0)\n",
      "Obtaining file:///C:/Users/Alban%20NYANTUDRE/Desktop/GitHub/Frame2Text4LLM\n",
      "  Preparing metadata (setup.py): started\n",
      "  Preparing metadata (setup.py): finished with status 'done'\n",
      "Requirement already satisfied: setuptools in c:\\users\\alban nyantudre\\.conda\\envs\\pytube\\lib\\site-packages (from frame2text4llm==0.0.1) (80.9.0)\n",
      "Requirement already satisfied: beartype in c:\\users\\alban nyantudre\\.conda\\envs\\pytube\\lib\\site-packages (from frame2text4llm==0.0.1) (0.21.0)\n",
      "Requirement already satisfied: loguru>=0.5.0 in c:\\users\\alban nyantudre\\.conda\\envs\\pytube\\lib\\site-packages (from frame2text4llm==0.0.1) (0.7.3)\n",
      "Requirement already satisfied: colorama>=0.3.4 in c:\\users\\alban nyantudre\\.conda\\envs\\pytube\\lib\\site-packages (from loguru>=0.5.0->frame2text4llm==0.0.1) (0.4.6)\n",
      "Requirement already satisfied: win32-setctime>=1.0.0 in c:\\users\\alban nyantudre\\.conda\\envs\\pytube\\lib\\site-packages (from loguru>=0.5.0->frame2text4llm==0.0.1) (1.2.0)\n",
      "Installing collected packages: frame2text4llm\n",
      "  Attempting uninstall: frame2text4llm\n",
      "    Found existing installation: frame2text4llm 0.0.1\n",
      "    Uninstalling frame2text4llm-0.0.1:\n",
      "      Successfully uninstalled frame2text4llm-0.0.1\n",
      "  Running setup.py develop for frame2text4llm\n",
      "Successfully installed frame2text4llm-0.0.1\n"
     ]
    },
    {
     "name": "stderr",
     "output_type": "stream",
     "text": [
      "  DEPRECATION: Legacy editable install of frame2text4llm==0.0.1 from file:///C:/Users/Alban%20NYANTUDRE/Desktop/GitHub/Frame2Text4LLM (setup.py develop) is deprecated. pip 25.3 will enforce this behaviour change. A possible replacement is to add a pyproject.toml or enable --use-pep517, and use setuptools >= 64. If the resulting installation is not behaving as expected, try using --config-settings editable_mode=compat. Please consult the setuptools documentation for more information. Discussion can be found at https://github.com/pypa/pip/issues/11457\n"
     ]
    }
   ],
   "source": [
    "#well here i had issues with the env (python 3.13.5) so i created a new env using conda (with python 3.11.0)\n",
    "!python -m pip install pytubefix\n",
    "!cd \"..\" && python -m pip install -e ."
   ]
  },
  {
   "cell_type": "code",
   "execution_count": 2,
   "id": "f2b11c68",
   "metadata": {},
   "outputs": [],
   "source": [
    "from frame2text4llm.consumer.youtube_consumer import YoutubeConsumer\n",
    "\n",
    "consumer = YoutubeConsumer()"
   ]
  },
  {
   "cell_type": "code",
   "execution_count": 3,
   "id": "48ab7186",
   "metadata": {},
   "outputs": [
    {
     "name": "stderr",
     "output_type": "stream",
     "text": [
      "\u001b[32m2025-07-09 00:19:04.342\u001b[0m | \u001b[1mINFO    \u001b[0m | \u001b[36mframe2text4llm.consumer.youtube_consumer\u001b[0m:\u001b[36mconsume_video\u001b[0m:\u001b[36m78\u001b[0m - \u001b[1mConsumption of video: https://www.youtube.com/watch?v=sYaE86WRy8A started\u001b[0m\n",
      "\u001b[32m2025-07-09 00:20:23.975\u001b[0m | \u001b[1mINFO    \u001b[0m | \u001b[36mframe2text4llm.consumer.youtube_consumer\u001b[0m:\u001b[36mconsume_video\u001b[0m:\u001b[36m104\u001b[0m - \u001b[1mVideo file downloaded: c:\\Users\\Alban NYANTUDRE\\Desktop\\GitHub\\Frame2Text4LLM\\notebooks\\datasets\\youtube\\raw\\La_V_RIT__cach_e_sur_le_Clan_NAMIKAZE___Le_Myst_re_autour_de_Minato_enfin_expliqu____minatonamikaze.mp4\u001b[0m\n"
     ]
    },
    {
     "data": {
      "text/plain": [
       "'c:\\\\Users\\\\Alban NYANTUDRE\\\\Desktop\\\\GitHub\\\\Frame2Text4LLM\\\\notebooks\\\\datasets\\\\youtube\\\\raw\\\\La_V_RIT__cach_e_sur_le_Clan_NAMIKAZE___Le_Myst_re_autour_de_Minato_enfin_expliqu____minatonamikaze.mp4'"
      ]
     },
     "execution_count": 3,
     "metadata": {},
     "output_type": "execute_result"
    }
   ],
   "source": [
    "#consume test video\n",
    "video_url = \"https://www.youtube.com/watch?v=sYaE86WRy8A\"\n",
    "consumer.consume_video(video_url)"
   ]
  },
  {
   "cell_type": "code",
   "execution_count": 4,
   "id": "adcdf118",
   "metadata": {},
   "outputs": [
    {
     "name": "stderr",
     "output_type": "stream",
     "text": [
      "\u001b[32m2025-07-09 00:20:26.350\u001b[0m | \u001b[1mINFO    \u001b[0m | \u001b[36mframe2text4llm.consumer.youtube_consumer\u001b[0m:\u001b[36mconsume_playlist\u001b[0m:\u001b[36m34\u001b[0m - \u001b[1mConsumption of playlist: Apprendre La Langue Mooré started\u001b[0m\n",
      "\u001b[32m2025-07-09 00:20:27.468\u001b[0m | \u001b[1mINFO    \u001b[0m | \u001b[36mframe2text4llm.consumer.youtube_consumer\u001b[0m:\u001b[36mconsume_playlist\u001b[0m:\u001b[36m38\u001b[0m - \u001b[1mProcessing video: Programme du Cours de lecture et écriture du Mooré | Zanga School\u001b[0m\n",
      "\u001b[32m2025-07-09 00:20:43.193\u001b[0m | \u001b[1mINFO    \u001b[0m | \u001b[36mframe2text4llm.consumer.youtube_consumer\u001b[0m:\u001b[36mconsume_playlist\u001b[0m:\u001b[36m59\u001b[0m - \u001b[1mDownloaded: datasets/youtube/raw\\playlist_PL1yp1o1z_DNs7jkBthEh_J2V5-Ae8VPS9\\Programme_du_Cours_de_lecture_et__criture_du_Moor____Zanga_School.mp4\u001b[0m\n",
      "\u001b[32m2025-07-09 00:20:44.415\u001b[0m | \u001b[1mINFO    \u001b[0m | \u001b[36mframe2text4llm.consumer.youtube_consumer\u001b[0m:\u001b[36mconsume_playlist\u001b[0m:\u001b[36m38\u001b[0m - \u001b[1mProcessing video: Installer un dictionnaire de Mooré | Zanga School\u001b[0m\n",
      "\u001b[32m2025-07-09 00:21:36.411\u001b[0m | \u001b[31m\u001b[1mERROR   \u001b[0m | \u001b[36mframe2text4llm.consumer.youtube_consumer\u001b[0m:\u001b[36mconsume_playlist\u001b[0m:\u001b[36m62\u001b[0m - \u001b[31m\u001b[1mError while processing the video 'Installer un dictionnaire de Mooré | Zanga School': \u001b[0m\n",
      "\u001b[32m2025-07-09 00:22:44.207\u001b[0m | \u001b[1mINFO    \u001b[0m | \u001b[36mframe2text4llm.consumer.youtube_consumer\u001b[0m:\u001b[36mconsume_playlist\u001b[0m:\u001b[36m38\u001b[0m - \u001b[1mProcessing video: Apprendre 12 Mots et Phrases pour les Débutants en Langue Mooré -  part 1 | Cours Zanga School\u001b[0m\n",
      "\u001b[32m2025-07-09 00:23:42.719\u001b[0m | \u001b[1mINFO    \u001b[0m | \u001b[36mframe2text4llm.consumer.youtube_consumer\u001b[0m:\u001b[36mconsume_playlist\u001b[0m:\u001b[36m59\u001b[0m - \u001b[1mDownloaded: datasets/youtube/raw\\playlist_PL1yp1o1z_DNs7jkBthEh_J2V5-Ae8VPS9\\Apprendre_12_Mots_et_Phrases_pour_les_D_butants_en_Langue_Moor__-__part_1___Cours_Zanga_School.mp4\u001b[0m\n",
      "\u001b[32m2025-07-09 00:23:43.766\u001b[0m | \u001b[1mINFO    \u001b[0m | \u001b[36mframe2text4llm.consumer.youtube_consumer\u001b[0m:\u001b[36mconsume_playlist\u001b[0m:\u001b[36m38\u001b[0m - \u001b[1mProcessing video: Apprendre la Langue Mooré - Les Questions Fréquentes et Réponses pour Débutants | Cours Zanga School\u001b[0m\n",
      "\u001b[32m2025-07-09 00:24:18.733\u001b[0m | \u001b[1mINFO    \u001b[0m | \u001b[36mframe2text4llm.consumer.youtube_consumer\u001b[0m:\u001b[36mconsume_playlist\u001b[0m:\u001b[36m59\u001b[0m - \u001b[1mDownloaded: datasets/youtube/raw\\playlist_PL1yp1o1z_DNs7jkBthEh_J2V5-Ae8VPS9\\Apprendre_la_Langue_Moor__-_Les_Questions_Fr_quentes_et_R_ponses_pour_D_butants___Cours_Zanga_School.mp4\u001b[0m\n",
      "\u001b[32m2025-07-09 00:24:19.908\u001b[0m | \u001b[1mINFO    \u001b[0m | \u001b[36mframe2text4llm.consumer.youtube_consumer\u001b[0m:\u001b[36mconsume_playlist\u001b[0m:\u001b[36m38\u001b[0m - \u001b[1mProcessing video: Apprendre la Langue Mooré | Comment Souhaiter Bonne Année | Cours Zanga School\u001b[0m\n",
      "\u001b[32m2025-07-09 00:24:47.113\u001b[0m | \u001b[1mINFO    \u001b[0m | \u001b[36mframe2text4llm.consumer.youtube_consumer\u001b[0m:\u001b[36mconsume_playlist\u001b[0m:\u001b[36m59\u001b[0m - \u001b[1mDownloaded: datasets/youtube/raw\\playlist_PL1yp1o1z_DNs7jkBthEh_J2V5-Ae8VPS9\\Apprendre_la_Langue_Moor____Comment_Souhaiter_Bonne_Ann_e___Cours_Zanga_School.mp4\u001b[0m\n",
      "\u001b[32m2025-07-09 00:24:48.034\u001b[0m | \u001b[1mINFO    \u001b[0m | \u001b[36mframe2text4llm.consumer.youtube_consumer\u001b[0m:\u001b[36mconsume_playlist\u001b[0m:\u001b[36m38\u001b[0m - \u001b[1mProcessing video: Thomas Sankara s'adresse à la Diaspora en Langue Africaine (Le Mooré) | Traduction Zanga School\u001b[0m\n",
      "\u001b[32m2025-07-09 00:25:29.942\u001b[0m | \u001b[1mINFO    \u001b[0m | \u001b[36mframe2text4llm.consumer.youtube_consumer\u001b[0m:\u001b[36mconsume_playlist\u001b[0m:\u001b[36m59\u001b[0m - \u001b[1mDownloaded: datasets/youtube/raw\\playlist_PL1yp1o1z_DNs7jkBthEh_J2V5-Ae8VPS9\\Thomas_Sankara_s_adresse___la_Diaspora_en_Langue_Africaine__Le_Moor_____Traduction_Zanga_School.mp4\u001b[0m\n",
      "\u001b[32m2025-07-09 00:25:30.885\u001b[0m | \u001b[1mINFO    \u001b[0m | \u001b[36mframe2text4llm.consumer.youtube_consumer\u001b[0m:\u001b[36mconsume_playlist\u001b[0m:\u001b[36m38\u001b[0m - \u001b[1mProcessing video: Ditanye en Langue mooré - Hymne national du Burkina Faso | Zanga School\u001b[0m\n",
      "\u001b[32m2025-07-09 00:25:55.488\u001b[0m | \u001b[1mINFO    \u001b[0m | \u001b[36mframe2text4llm.consumer.youtube_consumer\u001b[0m:\u001b[36mconsume_playlist\u001b[0m:\u001b[36m59\u001b[0m - \u001b[1mDownloaded: datasets/youtube/raw\\playlist_PL1yp1o1z_DNs7jkBthEh_J2V5-Ae8VPS9\\Ditanye_en_Langue_moor__-_Hymne_national_du_Burkina_Faso___Zanga_School.mp4\u001b[0m\n",
      "\u001b[32m2025-07-09 00:25:55.489\u001b[0m | \u001b[1mINFO    \u001b[0m | \u001b[36mframe2text4llm.consumer.youtube_consumer\u001b[0m:\u001b[36mconsume_playlist\u001b[0m:\u001b[36m64\u001b[0m - \u001b[1mConsumption of playlist completed!\u001b[0m\n"
     ]
    },
    {
     "data": {
      "text/plain": [
       "'datasets/youtube/raw\\\\playlist_PL1yp1o1z_DNs7jkBthEh_J2V5-Ae8VPS9'"
      ]
     },
     "execution_count": 4,
     "metadata": {},
     "output_type": "execute_result"
    }
   ],
   "source": [
    "#consume playlist\n",
    "playlist_url = \"https://www.youtube.com/playlist?list=PL1yp1o1z_DNs7jkBthEh_J2V5-Ae8VPS9\"\n",
    "consumer.consume_playlist(playlist_url)"
   ]
  },
  {
   "cell_type": "code",
   "execution_count": null,
   "id": "84ce96ea",
   "metadata": {},
   "outputs": [],
   "source": []
  }
 ],
 "metadata": {
  "kernelspec": {
   "display_name": "pytube",
   "language": "python",
   "name": "python3"
  },
  "language_info": {
   "codemirror_mode": {
    "name": "ipython",
    "version": 3
   },
   "file_extension": ".py",
   "mimetype": "text/x-python",
   "name": "python",
   "nbconvert_exporter": "python",
   "pygments_lexer": "ipython3",
   "version": "3.11.0"
  }
 },
 "nbformat": 4,
 "nbformat_minor": 5
}
