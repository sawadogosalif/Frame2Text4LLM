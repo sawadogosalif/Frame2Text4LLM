{
 "cells": [
  {
   "cell_type": "code",
   "execution_count": 1,
   "id": "4ca6d071",
   "metadata": {},
   "outputs": [
    {
     "name": "stderr",
     "output_type": "stream",
     "text": [
      "c:\\Users\\sawal\\.virtualenvs\\venv_frame2text\\Lib\\site-packages\\tqdm\\auto.py:21: TqdmWarning: IProgress not found. Please update jupyter and ipywidgets. See https://ipywidgets.readthedocs.io/en/stable/user_install.html\n",
      "  from .autonotebook import tqdm as notebook_tqdm\n"
     ]
    }
   ],
   "source": [
    "import os\n",
    "from dotenv import load_dotenv\n",
    "load_dotenv()\n",
    "from frame2text4llm.export import HuggingfaceCooker, SRTExporter, JSONExporter"
   ]
  },
  {
   "cell_type": "code",
   "execution_count": 2,
   "id": "08173d9b",
   "metadata": {},
   "outputs": [],
   "source": [
    "ocr_results = [\n",
    "    {\n",
    "        \"success\": True,\n",
    "        \"text\": \"Bonjour, ceci est le début de la vidéos.\",\n",
    "        \"start_time\": \"00:00:05\",\n",
    "        \"end_time\": \"00:00:10\"\n",
    "    },\n",
    "    {\n",
    "        \"success\": True,\n",
    "        \"text\": \"Voici une autre phrase extraite à la minute 2.\",\n",
    "        \"start_time\": \"00:00:11\",\n",
    "        \"end_time\": \"00:02:50\"\n",
    "    },\n",
    "    {\n",
    "        \"success\": True,\n",
    "        \"text\": \"Fin de la vidéo, merci de votre attention.\",\n",
    "        \"start_time\": \"00:02:51\",\n",
    "        \"end_time\": \"00:04:00\"\n",
    "    }\n",
    "]"
   ]
  },
  {
   "cell_type": "code",
   "execution_count": 3,
   "id": "d36ea1f7",
   "metadata": {},
   "outputs": [
    {
     "name": "stderr",
     "output_type": "stream",
     "text": [
      "Saving the dataset (1/1 shards): 100%|██████████| 3/3 [00:00<00:00, 120.77 examples/s]\n",
      "\u001b[32m2025-07-20 19:35:22.476\u001b[0m | \u001b[1mINFO    \u001b[0m | \u001b[36mframe2text4llm.export.hf_cooker\u001b[0m:\u001b[36mexport\u001b[0m:\u001b[36m82\u001b[0m - \u001b[1m✅ Successfully created dataset with 3 entries\u001b[0m\n",
      "Saving the dataset (1/1 shards): 100%|██████████| 3/3 [00:00<00:00, 120.77 examples/s]\n",
      "\u001b[32m2025-07-20 19:35:22.476\u001b[0m | \u001b[1mINFO    \u001b[0m | \u001b[36mframe2text4llm.export.hf_cooker\u001b[0m:\u001b[36mexport\u001b[0m:\u001b[36m82\u001b[0m - \u001b[1m✅ Successfully created dataset with 3 entries\u001b[0m\n",
      "Map: 100%|██████████| 3/3 [00:00<00:00, 237.34 examples/s]?, ?it/s]\n",
      "Map: 100%|██████████| 3/3 [00:00<00:00, 237.34 examples/s]\n",
      "Creating parquet from Arrow format: 100%|██████████| 1/1 [00:00<00:00, 34.16ba/s]\n",
      "\n",
      "Uploading the dataset shards: 100%|██████████| 1/1 [00:00<00:00,  1.12it/s]\n",
      "\n",
      "No files have been modified since last commit. Skipping to prevent empty commit.\n",
      "No files have been modified since last commit. Skipping to prevent empty commit.\n",
      "\u001b[32m2025-07-20 19:35:26.202\u001b[0m | \u001b[1mINFO    \u001b[0m | \u001b[36mframe2text4llm.export.hf_cooker\u001b[0m:\u001b[36mexport\u001b[0m:\u001b[36m90\u001b[0m - \u001b[1m✅ Successfully pushed dataset to Frame2Text4LLM\u001b[0m\n",
      "\u001b[32m2025-07-20 19:35:26.202\u001b[0m | \u001b[1mINFO    \u001b[0m | \u001b[36mframe2text4llm.export.hf_cooker\u001b[0m:\u001b[36mexport\u001b[0m:\u001b[36m90\u001b[0m - \u001b[1m✅ Successfully pushed dataset to Frame2Text4LLM\u001b[0m\n"
     ]
    },
    {
     "name": "stdout",
     "output_type": "stream",
     "text": [
      "True\n"
     ]
    }
   ],
   "source": [
    "video_path = \"C:/Users/sawal/Desktop/project X/Frame2Text4LLM/sandbox/sample_short.mp4\"\n",
    "output_dir = 'C:/Users/sawal/Desktop/project X/Frame2Text4LLM/sandbox'\n",
    "\n",
    "cooker = HuggingfaceCooker(token=os.environ[\"HF_TOKEN\"], repository_id=\"Frame2Text4LLM\")\n",
    "dataset = cooker.export(\n",
    "    data=ocr_results,\n",
    "    output_path=output_dir,\n",
    "    video_path=video_path,\n",
    "    push_to_hub=True  \n",
    ")\n",
    "print(True)"
   ]
  },
  {
   "cell_type": "code",
   "execution_count": 4,
   "id": "ef9665ca",
   "metadata": {},
   "outputs": [
    {
     "name": "stderr",
     "output_type": "stream",
     "text": [
      "\u001b[32m2025-07-20 19:35:26.228\u001b[0m | \u001b[1mINFO    \u001b[0m | \u001b[36mframe2text4llm.export.text_cooker\u001b[0m:\u001b[36mexport\u001b[0m:\u001b[36m104\u001b[0m - \u001b[1m✅ Successfully exported 3 subtitles to cooker.srt\u001b[0m\n"
     ]
    }
   ],
   "source": [
    "cooker = SRTExporter()\n",
    "cooker.export(\n",
    "    data=ocr_results,\n",
    "    output_path=\"cooker.srt\"  # Correction de l'extension\n",
    ")"
   ]
  },
  {
   "cell_type": "code",
   "execution_count": 5,
   "id": "46612cc0",
   "metadata": {},
   "outputs": [
    {
     "name": "stderr",
     "output_type": "stream",
     "text": [
      "\u001b[32m2025-07-20 19:35:26.254\u001b[0m | \u001b[1mINFO    \u001b[0m | \u001b[36mframe2text4llm.export.text_cooker\u001b[0m:\u001b[36mexport\u001b[0m:\u001b[36m44\u001b[0m - \u001b[1m✅ Successfully exported 3 entries to cooker.json\u001b[0m\n"
     ]
    }
   ],
   "source": [
    "\n",
    "cooker = JSONExporter()\n",
    "dataset = cooker.export(\n",
    "    data=ocr_results,\n",
    "    output_path=\"cooker.json\"\n",
    ")\n"
   ]
  },
  {
   "cell_type": "code",
   "execution_count": null,
   "id": "b091d4db",
   "metadata": {},
   "outputs": [],
   "source": []
  }
 ],
 "metadata": {
  "kernelspec": {
   "display_name": "venv_frame2text",
   "language": "python",
   "name": "python3"
  },
  "language_info": {
   "codemirror_mode": {
    "name": "ipython",
    "version": 3
   },
   "file_extension": ".py",
   "mimetype": "text/x-python",
   "name": "python",
   "nbconvert_exporter": "python",
   "pygments_lexer": "ipython3",
   "version": "3.13.5"
  }
 },
 "nbformat": 4,
 "nbformat_minor": 5
}
